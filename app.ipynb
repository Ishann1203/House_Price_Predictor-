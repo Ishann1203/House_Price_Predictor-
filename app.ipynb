{
 "cells": [
  {
   "cell_type": "code",
   "execution_count": null,
   "id": "526b4b10",
   "metadata": {},
   "outputs": [
    {
     "ename": "",
     "evalue": "",
     "output_type": "error",
     "traceback": [
      "\u001b[1;31mRunning cells with 'venv (Python 3.11.9)' requires the ipykernel package.\n",
      "\u001b[1;31mInstall 'ipykernel' into the Python environment. \n",
      "\u001b[1;31mCommand: '\"c:/Users/Ishan/Desktop/Internship/Project 2/venv/Scripts/python.exe\" -m pip install ipykernel -U --force-reinstall'"
     ]
    }
   ],
   "source": [
    "import pandas as pd\n",
    "import matplotlib.pyplot as plt\n",
    "import seaborn as sns\n",
    "from sklearn.preprocessing import LabelEncoder\n",
    "from sklearn.model_selection import train_test_split\n",
    "from sklearn.metrics import mean_absolute_error, r2_score\n",
    "from xgboost import XGBRegressor\n",
    "import joblib"
   ]
  },
  {
   "cell_type": "code",
   "execution_count": null,
   "id": "88e1c9b8",
   "metadata": {},
   "outputs": [],
   "source": [
    "df = pd.read_csv('dataset.csv')\n",
    "df.head()"
   ]
  },
  {
   "cell_type": "code",
   "execution_count": null,
   "id": "ad0ae74f",
   "metadata": {},
   "outputs": [],
   "source": [
    "missing_vlaues = df.isnull().sum().sort_values(ascending=False)\n",
    "missing_vlaues"
   ]
  },
  {
   "cell_type": "code",
   "execution_count": null,
   "id": "c6aea73a",
   "metadata": {},
   "outputs": [],
   "source": [
    "m_values = missing_vlaues[missing_vlaues>500]\n",
    "plt.figure(figsize=(10.8))\n",
    "sns.barplot(x=m_values, y=m_values.index, palette='viridis')\n",
    "plt.title(\"Missing Values By Feature\")\n",
    "plt.xlabel(\"Count Of Missing Values\")\n",
    "plt.ylabel(\"Features\")\n",
    "plt.show()"
   ]
  },
  {
   "cell_type": "code",
   "execution_count": null,
   "id": "182c0f3b",
   "metadata": {},
   "outputs": [
    {
     "ename": "",
     "evalue": "",
     "output_type": "error",
     "traceback": [
      "\u001b[1;31mRunning cells with 'venv (Python 3.11.9)' requires the ipykernel package.\n",
      "\u001b[1;31mInstall 'ipykernel' into the Python environment. \n",
      "\u001b[1;31mCommand: '\"c:/Users/Ishan/Desktop/Internship/Project 2/venv/Scripts/python.exe\" -m pip install ipykernel -U --force-reinstall'"
     ]
    }
   ],
   "source": [
    "df = df.drop(columns=['Id', 'PoolQC', 'FireplaceQu', 'Fence', 'Alley', 'MiscFeature', 'MasVnrType'])\n",
    "df"
   ]
  },
  {
   "cell_type": "code",
   "execution_count": null,
   "id": "ba4c56a1",
   "metadata": {},
   "outputs": [],
   "source": [
    "df.columns"
   ]
  },
  {
   "cell_type": "code",
   "execution_count": null,
   "id": "83cf78fb",
   "metadata": {},
   "outputs": [
    {
     "ename": "",
     "evalue": "",
     "output_type": "error",
     "traceback": [
      "\u001b[1;31mRunning cells with 'venv (Python 3.11.9)' requires the ipykernel package.\n",
      "\u001b[1;31mInstall 'ipykernel' into the Python environment. \n",
      "\u001b[1;31mCommand: '\"c:/Users/Ishan/Desktop/Internship/Project 2/venv/Scripts/python.exe\" -m pip install ipykernel -U --force-reinstall'"
     ]
    }
   ],
   "source": [
    "c_columns =  df.select_dtypes(include=['object', 'category']).columns\n",
    "print(\"Category Columns: \")\n",
    "print(c_columns)\n"
   ]
  },
  {
   "cell_type": "code",
   "execution_count": null,
   "id": "848d05b1",
   "metadata": {},
   "outputs": [],
   "source": [
    "label_encoder = LabelEncoder()\n",
    "c_columns = [\n",
    "\n",
    "]\n",
    "\n",
    "for col in c_columns:\n",
    "    df[col] = label_encoder.fit_transform(df[col])\n",
    "\n",
    "df\n",
    "\n"
   ]
  },
  {
   "cell_type": "code",
   "execution_count": null,
   "id": "6bc13071",
   "metadata": {},
   "outputs": [],
   "source": [
    "corr_matrix = df.corr()\n",
    "corr_with_price = corr_matrix['SalePrice'].sort_values(ascending=False)\n",
    "print(\"Correlared Features\", corr_with_price.head(20))\n"
   ]
  },
  {
   "cell_type": "code",
   "execution_count": null,
   "id": "0b8c9e21",
   "metadata": {},
   "outputs": [],
   "source": [
    "c_features = corr_with_price[corr_with_price>0.25].index\n",
    "df = df[c_features]\n",
    "df"
   ]
  },
  {
   "cell_type": "code",
   "execution_count": null,
   "id": "135af607",
   "metadata": {},
   "outputs": [],
   "source": [
    "plt.figure(figsize=(10,8))\n",
    "sns.heatmap(df[corr_with_price[corr_with_price>0.25].index].corr(), annot=True, fmt='.2f', cmap='Greens')\n",
    "\n",
    "plt.show()"
   ]
  },
  {
   "cell_type": "code",
   "execution_count": null,
   "id": "e945d016",
   "metadata": {},
   "outputs": [],
   "source": [
    "df = df.drop(columns=['GarageCars', 'GarageVrBlt', 'TotRmsAbvGrd', 'Foundation', '2ndFlrSF', 'HalfBath', 'TotalBsmtSF'])\n",
    "df"
   ]
  },
  {
   "cell_type": "code",
   "execution_count": null,
   "id": "b2ee657e",
   "metadata": {},
   "outputs": [],
   "source": [
    "df.sample(5)\n"
   ]
  },
  {
   "cell_type": "code",
   "execution_count": null,
   "id": "b039d1f7",
   "metadata": {},
   "outputs": [],
   "source": [
    "df.isnull().sum()\n"
   ]
  },
  {
   "cell_type": "code",
   "execution_count": null,
   "id": "ca48b1f2",
   "metadata": {},
   "outputs": [],
   "source": [
    "df['LotFrontage'] = df['LotFrontage'].fillna(df['LotFrontage'].mean())"
   ]
  },
  {
   "cell_type": "code",
   "execution_count": null,
   "id": "b7be7c0f",
   "metadata": {},
   "outputs": [],
   "source": [
    "df.isnull().sum()"
   ]
  },
  {
   "cell_type": "code",
   "execution_count": null,
   "id": "f1128587",
   "metadata": {},
   "outputs": [],
   "source": [
    "x = df.drop('SalePrice', axis=1)\n",
    "y = df['SalePrice']\n",
    "\n",
    "x_train, x_test, y_train, y_test = train_test_split(x, y, test_size=0.2, random_state=42)\n"
   ]
  },
  {
   "cell_type": "code",
   "execution_count": null,
   "id": "dd38238e",
   "metadata": {},
   "outputs": [],
   "source": [
    "x"
   ]
  },
  {
   "cell_type": "code",
   "execution_count": null,
   "id": "37c70f6d",
   "metadata": {},
   "outputs": [],
   "source": [
    "y"
   ]
  },
  {
   "cell_type": "code",
   "execution_count": null,
   "id": "ea052a82",
   "metadata": {},
   "outputs": [],
   "source": [
    "model= XGBRegressor (\n",
    "    objective = 'reg:squarederror',\n",
    "    learning_rate = 0.01,\n",
    "    max_depth = 6,\n",
    "    n_estimators = 1000,\n",
    "    subsample = 0.65,\n",
    "    random_state = 42\n",
    ")\n",
    "\n",
    "model.fit(x_train, y_train)"
   ]
  },
  {
   "cell_type": "code",
   "execution_count": null,
   "id": "ed681844",
   "metadata": {},
   "outputs": [],
   "source": [
    "y_pred = model.predict(x_train)"
   ]
  },
  {
   "cell_type": "code",
   "execution_count": null,
   "id": "e271dd4b",
   "metadata": {},
   "outputs": [],
   "source": [
    "mae = mean_absolute_error(y_test, y_pred)\n",
    "print(\"Mean Absolute Error\", mae)\n",
    "\n",
    "r2score = r2_score(y_test, y_pred)\n",
    "print(\"R2 Score: \", r2score)\n"
   ]
  },
  {
   "cell_type": "code",
   "execution_count": null,
   "id": "22e21036",
   "metadata": {},
   "outputs": [],
   "source": [
    "joblib.dump(model, 'xgb_model.jb')"
   ]
  }
 ],
 "metadata": {
  "kernelspec": {
   "display_name": "venv",
   "language": "python",
   "name": "python3"
  },
  "language_info": {
   "name": "python",
   "version": "3.11.9"
  }
 },
 "nbformat": 4,
 "nbformat_minor": 5
}
